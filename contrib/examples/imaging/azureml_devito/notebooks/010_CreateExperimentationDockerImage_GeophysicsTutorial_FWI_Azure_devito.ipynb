{
 "cells": [
  {
   "cell_type": "markdown",
   "metadata": {},
   "source": [
    "# FWI in Azure project\n",
    "\n",
    "## Create Experimentation Docker image\n",
    "\n",
    "FWI demo based on: \n",
    "This project ports devito (https://github.com/opesci/devito) into Azure and runs tutorial notebooks at:\n",
    "https://nbviewer.jupyter.org/github/opesci/devito/blob/master/examples/seismic/tutorials/\n",
    "\n",
    "\n",
    "\n",
    "In this notebook we create a custom docker image that will be used to run the devito demo notebooks in AzureML. \n",
    "\n",
    " - We transparently create a docker file, a conda environment .yml file, build the docker image and push it into dockerhub. Azure ACR could also be used for storing docker images. \n",
    " - The conda environment .yml file lists conda and pip installs, and separates all python dependencies from the docker installs. \n",
    " - The dockerfile is generic. The only AzureML depedency is azureml-sdk pip installable package in conda environment .yml file\n",
    " - The created docer image will be run in following notebook in a container on the local AzureVM or on a remote AzureML compute cluster. This AzureML pattern decouples experimentation (or training) job definition (experimentation script, data location, dependencies and docker image) happening on the control plane machine that runs this notebook, from the elastically allocated and Azure managed VM/cluster that does the actual training/experimentation computation.\n",
    " \n",
    "<a id='user_input_requiring_steps'></a>\n",
    "User input requiring steps:\n",
    " - [Fill in and save docker image name settings, if needed. ](#docker_image_settings)\n",
    " - [Update DOCKER_CONTAINER_MOUNT_POINT to match our local path](#docker_image_settings)\n",
    " - [Set docker build and test flags](#docker_build_test_settings) \n"
   ]
  },
  {
   "cell_type": "code",
   "execution_count": 1,
   "metadata": {},
   "outputs": [],
   "source": [
    "# Allow multiple displays per cell\n",
    "from IPython.core.interactiveshell import InteractiveShell\n",
    "InteractiveShell.ast_node_interactivity = \"all\" "
   ]
  },
  {
   "cell_type": "code",
   "execution_count": 2,
   "metadata": {},
   "outputs": [],
   "source": [
    "import sys, os\n",
    "import shutil\n",
    "import urllib\n",
    "\n",
    "import platform\n",
    "import math\n",
    "import docker"
   ]
  },
  {
   "cell_type": "code",
   "execution_count": 3,
   "metadata": {},
   "outputs": [
    {
     "data": {
      "text/plain": [
       "'Linux-4.15.0-1061-azure-x86_64-with-debian-10.0'"
      ]
     },
     "execution_count": 3,
     "metadata": {},
     "output_type": "execute_result"
    },
    {
     "data": {
      "text/plain": [
       "'/workspace/examples/imaging/azureml_devito/notebooks'"
      ]
     },
     "execution_count": 3,
     "metadata": {},
     "output_type": "execute_result"
    }
   ],
   "source": [
    "platform.platform()\n",
    "os.getcwd()"
   ]
  },
  {
   "cell_type": "markdown",
   "metadata": {},
   "source": [
    "<a id='docker_build_test_settings'></a>\n",
    "#### Setup docker image build and test process. \n",
    " - devito tests take abou 15 mins (981.41 seconds). When running this notebook for first time make:\n",
    "     > docker_build_no_cache = '--no-cache'  \n",
    "     > docker_test_run_devito_tests = True\n",
    "     \n",
    "[Back](#user_input_requiring_steps) to summary of user input requiring steps."
   ]
  },
  {
   "cell_type": "code",
   "execution_count": 4,
   "metadata": {},
   "outputs": [],
   "source": [
    "docker_build_no_cache = ''  # '--no-cache' # or '' #\n",
    "docker_test_run_devito_tests = False # True # False\n",
    "\n",
    "# azureml_sdk_version set here must match azureml sdk version pinned in conda env file written to conda_common_file_path below\n",
    "azureml_sdk_version = '1.0.69' "
   ]
  },
  {
   "cell_type": "markdown",
   "metadata": {},
   "source": [
    "##### Import utilities functions"
   ]
  },
  {
   "cell_type": "code",
   "execution_count": 5,
   "metadata": {},
   "outputs": [
    {
     "data": {
      "text/plain": [
       "[None]"
      ]
     },
     "execution_count": 5,
     "metadata": {},
     "output_type": "execute_result"
    }
   ],
   "source": [
    "def add_path_to_sys_path(path_to_append):\n",
    "    if not (any(path_to_append in paths for paths in sys.path)):\n",
    "        sys.path.append(path_to_append)\n",
    "        \n",
    "auxiliary_files_dir = os.path.join(*(['.', 'src']))\n",
    "paths_to_append = [os.path.join(os.getcwd(), auxiliary_files_dir)]\n",
    "[add_path_to_sys_path(crt_path) for crt_path in paths_to_append]\n",
    "\n",
    "import project_utils\n",
    "prj_consts = project_utils.project_consts()"
   ]
  },
  {
   "cell_type": "markdown",
   "metadata": {},
   "source": [
    "##### Create experimentation docker file"
   ]
  },
  {
   "cell_type": "code",
   "execution_count": 6,
   "metadata": {},
   "outputs": [
    {
     "data": {
      "text/plain": [
       "'./../not_shared/general.env'"
      ]
     },
     "execution_count": 6,
     "metadata": {},
     "output_type": "execute_result"
    }
   ],
   "source": [
    "dotenv_file_path = os.path.join(*(prj_consts.DOTENV_FILE_PATH))\n",
    "dotenv_file_path"
   ]
  },
  {
   "cell_type": "code",
   "execution_count": 7,
   "metadata": {},
   "outputs": [
    {
     "name": "stdout",
     "output_type": "stream",
     "text": [
      "/workspace/examples/imaging/azureml_devito/notebooks\r\n"
     ]
    }
   ],
   "source": [
    "!pwd"
   ]
  },
  {
   "cell_type": "markdown",
   "metadata": {},
   "source": [
    "<a id='docker_image_settings'></a>\n",
    "\n",
    "##### Input here docker image settings \n",
    "in cell below we use [dotenv](https://github.com/theskumar/python-dotenv) to overwrite docker image properties already save in dotenv_file_path. Change as needed, e.g. update azureml_sdk version if using a different version.\n",
    "\n",
    "[Back](#user_input_requiring_steps) to summary of user input requiring steps."
   ]
  },
  {
   "cell_type": "code",
   "execution_count": 8,
   "metadata": {},
   "outputs": [
    {
     "data": {
      "text/plain": [
       "(True, 'EXPERIMENTATION_DOCKER_IMAGE_TAG', 'sdk.v1.0.69')"
      ]
     },
     "execution_count": 8,
     "metadata": {},
     "output_type": "execute_result"
    },
    {
     "data": {
      "text/plain": [
       "(True, 'EXPERIMENTATION_DOCKER_IMAGE_NAME', 'fwi01_azureml')"
      ]
     },
     "execution_count": 8,
     "metadata": {},
     "output_type": "execute_result"
    },
    {
     "data": {
      "text/plain": [
       "(True,\n",
       " 'DOCKER_CONTAINER_MOUNT_POINT',\n",
       " '/datadrive01/prj/DeepSeismic/examples/imaging/azureml_devito/notebooks')"
      ]
     },
     "execution_count": 8,
     "metadata": {},
     "output_type": "execute_result"
    }
   ],
   "source": [
    "# SDK changes often, so we'll keep its version transparent \n",
    "import dotenv\n",
    "\n",
    "# EXPERIMENTATION_IMAGE_VERSION should:\n",
    "# - match sdk version in fwi01_conda_env01 environmnet in conda_env_fwi01_azureml_sdk.v1.0.XX.yml file below\n",
    "# -  match the conda env yml file name, e.g. conda_env_fwi01_azureml_sdk.v1.0.62.yml referenced in \n",
    "#      Dockerfile_fwi01_azureml_sdk.v1.0.62\n",
    "dotenv.set_key(dotenv_file_path, 'EXPERIMENTATION_DOCKER_IMAGE_TAG', ('sdk.v'+azureml_sdk_version))\n",
    "dotenv.set_key(dotenv_file_path, 'EXPERIMENTATION_DOCKER_IMAGE_NAME', 'fwi01_azureml')\n",
    "\n",
    "dotenv.set_key(dotenv_file_path, 'DOCKER_CONTAINER_MOUNT_POINT', '/datadrive01/prj/DeepSeismic/examples/imaging/azureml_devito/notebooks')"
   ]
  },
  {
   "cell_type": "code",
   "execution_count": 9,
   "metadata": {},
   "outputs": [
    {
     "data": {
      "text/plain": [
       "'fwi01acr.azurecr.io/fwi01_azureml:sdk.v1.0.69'"
      ]
     },
     "execution_count": 9,
     "metadata": {},
     "output_type": "execute_result"
    },
    {
     "data": {
      "text/plain": [
       "'conda_env_fwi01_azureml_sdk.v1.0.69.yml'"
      ]
     },
     "execution_count": 9,
     "metadata": {},
     "output_type": "execute_result"
    },
    {
     "data": {
      "text/plain": [
       "'/workspace/examples/imaging/azureml_devito/notebooks/./../temp/docker_build/conda_env_fwi01_azureml_sdk.v1.0.69.yml'"
      ]
     },
     "execution_count": 9,
     "metadata": {},
     "output_type": "execute_result"
    },
    {
     "data": {
      "text/plain": [
       "'/workspace/examples/imaging/azureml_devito/notebooks/./../temp/docker_build/conda_env_fwi01_azureml.yml'"
      ]
     },
     "execution_count": 9,
     "metadata": {},
     "output_type": "execute_result"
    },
    {
     "data": {
      "text/plain": [
       "'/workspace/examples/imaging/azureml_devito/notebooks/./../temp/docker_build'"
      ]
     },
     "execution_count": 9,
     "metadata": {},
     "output_type": "execute_result"
    },
    {
     "data": {
      "text/plain": [
       "'/workspace/examples/imaging/azureml_devito/notebooks/./../temp/docker_build/Dockerfile_fwi01_azureml_sdk.v1.0.69'"
      ]
     },
     "execution_count": 9,
     "metadata": {},
     "output_type": "execute_result"
    }
   ],
   "source": [
    "%reload_ext dotenv\n",
    "%dotenv $dotenv_file_path\n",
    "\n",
    "docker_file_location = os.path.join(*(prj_consts.AML_EXPERIMENT_DIR + ['docker_build']))\n",
    "\n",
    "docker_file_name = 'Dockerfile'+ '_' + os.getenv('EXPERIMENTATION_DOCKER_IMAGE_NAME')\n",
    "\n",
    "conda_dependency_file_name = 'conda_env'+ '_' + os.getenv('EXPERIMENTATION_DOCKER_IMAGE_NAME')\n",
    "conda_dependency_common_file_name = conda_dependency_file_name\n",
    "\n",
    "devito_conda_dependency_file_name = 'devito_conda_env'+'.yml'\n",
    "\n",
    "docker_repo_name = os.getenv('ACR_NAME')+'.azurecr.io' # or os.getenv('DOCKER_LOGIN')\n",
    "docker_image_name = docker_repo_name + '/' + os.getenv('EXPERIMENTATION_DOCKER_IMAGE_NAME')\n",
    "\n",
    "image_version = os.getenv('EXPERIMENTATION_DOCKER_IMAGE_TAG')\n",
    "if image_version!=\"\":\n",
    "    docker_file_name = docker_file_name +'_'+ image_version\n",
    "    conda_dependency_file_name = conda_dependency_file_name+'_'+ image_version\n",
    "    docker_image_name = docker_image_name +':'+ image_version\n",
    "conda_dependency_file_name=conda_dependency_file_name+'.yml'\n",
    "conda_dependency_common_file_name = conda_dependency_common_file_name+'.yml'\n",
    "\n",
    "docker_file_dir = os.path.join(*([os.getcwd(), docker_file_location]))\n",
    "os.makedirs(docker_file_dir, exist_ok=True)\n",
    "docker_file_path = os.path.join(*([docker_file_dir]+[docker_file_name]))\n",
    "conda_file_path = os.path.join(*([docker_file_dir]+[conda_dependency_file_name]))\n",
    "conda_common_file_path = os.path.join(*([docker_file_dir]+[conda_dependency_common_file_name]))\n",
    "\n",
    "docker_image_name\n",
    "\n",
    "conda_dependency_file_name\n",
    "conda_file_path\n",
    "conda_common_file_path\n",
    "\n",
    "docker_file_dir\n",
    "docker_file_path"
   ]
  },
  {
   "cell_type": "code",
   "execution_count": 10,
   "metadata": {},
   "outputs": [
    {
     "name": "stdout",
     "output_type": "stream",
     "text": [
      "Overwriting /workspace/examples/imaging/azureml_devito/notebooks/./../temp/docker_build/conda_env_fwi01_azureml.yml\n"
     ]
    }
   ],
   "source": [
    "%%writefile $conda_common_file_path\n",
    "name: fwi01_conda_env01\n",
    "    \n",
    "#https://storage.googleapis.com/tensorflow/linux/gpu/tensorflow_gpu-1.13.1-cp37-cp37m-linux_x86_64.whl    \n",
    "# https://github.com/dask/dask-tutorial\n",
    "\n",
    "channels:\n",
    "  - anaconda\n",
    "  - conda-forge\n",
    "dependencies:\n",
    "  - python=3.6 # 3.6 req by tf, not 3.7.2 \n",
    "  - dask\n",
    "  - distributed\n",
    "  - h5py\n",
    "  - matplotlib\n",
    "  - nb_conda\n",
    "  - notebook \n",
    "  - numpy \n",
    "  - pandas\n",
    "  - pip\n",
    "  - py-cpuinfo # all required by devito or dask-tutorial\n",
    "  - pytables\n",
    "  - python-graphviz\n",
    "  - requests>=2.19.1\n",
    "  - pillow\n",
    "  - scipy\n",
    "  - snakeviz\n",
    "  - scikit-image\n",
    "  - toolz\n",
    "  - pip:\n",
    "    - anytree # required by devito\n",
    "    - azureml-sdk[notebooks,automl]==1.0.69\n",
    "    - codepy # required by devito\n",
    "    - papermill[azure]\n",
    "    - pyrevolve # required by devito"
   ]
  },
  {
   "cell_type": "code",
   "execution_count": 11,
   "metadata": {},
   "outputs": [
    {
     "name": "stdout",
     "output_type": "stream",
     "text": [
      "Overwriting /workspace/examples/imaging/azureml_devito/notebooks/./../temp/docker_build/Dockerfile_fwi01_azureml_sdk.v1.0.69\n"
     ]
    }
   ],
   "source": [
    "%%writefile $docker_file_path \n",
    "\n",
    "FROM continuumio/miniconda3:4.7.10    \n",
    "MAINTAINER George Iordanescu <ghiordan@microsoft.com>\n",
    "\n",
    "RUN apt-get update --fix-missing && apt-get install -y --no-install-recommends \\\n",
    "    gcc g++ \\\n",
    "    wget bzip2 \\\n",
    "    curl \\\n",
    "    git make \\\n",
    "    mpich \\ \n",
    "    libmpich-dev && \\\n",
    "    apt-get clean && \\\n",
    "    rm -rf /var/lib/apt/lists/*\n",
    "\n",
    "ENV CONDA_ENV_FILE_NAME conda_env_fwi01_azureml.yml\n",
    "ADD $CONDA_ENV_FILE_NAME /tmp/$CONDA_ENV_FILE_NAME\n",
    "ENV CONDA_DIR /opt/conda\n",
    "ENV CONDA_ENV_NAME fwi01_conda_env\n",
    "\n",
    "RUN git clone https://github.com/opesci/devito.git  && \\\n",
    "    cd devito  && \\\n",
    "    /opt/conda/bin/conda env create -q --name $CONDA_ENV_NAME -f environment.yml && \\\n",
    "    pip install -e . \n",
    "    \n",
    "ENV CONDA_AUTO_UPDATE_CONDA=false\n",
    "ENV CONDA_DEFAULT_ENV=$CONDA_ENV_NAME\n",
    "ENV CONDA_PREFIX=$CONDA_DIR/envs/$CONDA_DEFAULT_ENV\n",
    "ENV PATH=$CONDA_PREFIX/bin:/opt/conda/bin:$PATH   \n",
    "\n",
    "RUN /opt/conda/bin/conda env update --name $CONDA_ENV_NAME -f /tmp/$CONDA_ENV_FILE_NAME && \\\n",
    "    /opt/conda/bin/conda clean  --yes --all\n",
    "\n",
    "ENV PYTHONPATH=$PYTHONPATH:devito/app\n",
    "\n",
    "# WORKDIR /devito     \n",
    "    \n",
    "CMD /bin/bash"
   ]
  },
  {
   "cell_type": "code",
   "execution_count": 12,
   "metadata": {},
   "outputs": [
    {
     "data": {
      "text/plain": [
       "'/workspace/examples/imaging/azureml_devito/notebooks/./../temp/docker_build/conda_env_fwi01_azureml_sdk.v1.0.69.yml'"
      ]
     },
     "execution_count": 12,
     "metadata": {},
     "output_type": "execute_result"
    },
    {
     "name": "stdout",
     "output_type": "stream",
     "text": [
      "total 36\r\n",
      "-rw-r--r-- 1 root root 1073 Oct 30 05:29 Dockerfile_fwi01_azureml_sdk.v1.0.60\r\n",
      "-rw-r--r-- 1 root root 1098 Sep 26 19:04 Dockerfile_fwi01_azureml_sdk.v1.0.62\r\n",
      "-rw-r--r-- 1 root root 1085 Oct 24 01:05 Dockerfile_fwi01_azureml_sdk.v1.0.65\r\n",
      "-rw-r--r-- 1 root root 1073 Nov  3 14:43 Dockerfile_fwi01_azureml_sdk.v1.0.69\r\n",
      "-rw-r--r-- 1 root root  733 Nov  3 14:43 conda_env_fwi01_azureml.yml\r\n",
      "-rw-r--r-- 1 root root  733 Oct 30 05:29 conda_env_fwi01_azureml_sdk.v1.0.60.yml\r\n",
      "-rw-r--r-- 1 root root  713 Sep 26 19:04 conda_env_fwi01_azureml_sdk.v1.0.62.yml\r\n",
      "-rw-r--r-- 1 root root  733 Oct 24 01:05 conda_env_fwi01_azureml_sdk.v1.0.65.yml\r\n",
      "-rw-r--r-- 1 root root  733 Nov  3 14:43 conda_env_fwi01_azureml_sdk.v1.0.69.yml\r\n"
     ]
    }
   ],
   "source": [
    "shutil.copyfile(conda_common_file_path, conda_file_path)\n",
    "\n",
    "! ls -l $docker_file_dir"
   ]
  },
  {
   "cell_type": "code",
   "execution_count": 13,
   "metadata": {},
   "outputs": [
    {
     "data": {
      "text/plain": [
       "'docker build -t fwi01acr.azurecr.io/fwi01_azureml:sdk.v1.0.69 -f /workspace/examples/imaging/azureml_devito/notebooks/./../temp/docker_build/Dockerfile_fwi01_azureml_sdk.v1.0.69 /workspace/examples/imaging/azureml_devito/notebooks/./../temp/docker_build '"
      ]
     },
     "execution_count": 13,
     "metadata": {},
     "output_type": "execute_result"
    },
    {
     "data": {
      "text/plain": [
       "['Sending build context to Docker daemon   16.9kB',\n",
       " '',\n",
       " 'Step 1/15 : FROM continuumio/miniconda3:4.7.10',\n",
       " ' ---> 4a51de2367be',\n",
       " 'Step 2/15 : MAINTAINER George Iordanescu <ghiordan@microsoft.com>']"
      ]
     },
     "execution_count": 13,
     "metadata": {},
     "output_type": "execute_result"
    },
    {
     "data": {
      "text/plain": [
       "['Step 15/15 : CMD /bin/bash',\n",
       " ' ---> Using cache',\n",
       " ' ---> 3dc3d5d871a4',\n",
       " 'Successfully built 3dc3d5d871a4',\n",
       " 'Successfully tagged fwi01acr.azurecr.io/fwi01_azureml:sdk.v1.0.69']"
      ]
     },
     "execution_count": 13,
     "metadata": {},
     "output_type": "execute_result"
    }
   ],
   "source": [
    "cli_command='docker build -t '+ docker_image_name + \\\n",
    "' -f ' + docker_file_path + \\\n",
    "' ' + docker_file_dir + ' ' +\\\n",
    "docker_build_no_cache  #'' #' --no-cache'\n",
    "\n",
    "\n",
    "cli_command\n",
    "docker_build_response = ! $cli_command\n",
    "\n",
    "docker_build_response[0:5] \n",
    "docker_build_response[-5:] "
   ]
  },
  {
   "cell_type": "markdown",
   "metadata": {},
   "source": [
    "Docker containers can be run using python docker sdk"
   ]
  },
  {
   "cell_type": "code",
   "execution_count": 14,
   "metadata": {},
   "outputs": [
    {
     "data": {
      "text/plain": [
       "'fwi01acr.azurecr.io/fwi01_azureml:sdk.v1.0.69'"
      ]
     },
     "execution_count": 14,
     "metadata": {},
     "output_type": "execute_result"
    },
    {
     "data": {
      "text/plain": [
       "'bash -c \"pwd;python -c \\'import azureml.core;print(azureml.core.VERSION)\\'\"'"
      ]
     },
     "execution_count": 14,
     "metadata": {},
     "output_type": "execute_result"
    },
    {
     "data": {
      "text/plain": [
       "b'/\\n1.0.69\\n'"
      ]
     },
     "execution_count": 14,
     "metadata": {},
     "output_type": "execute_result"
    }
   ],
   "source": [
    "docker_image_name\n",
    "\n",
    "sh_command='bash -c \"pwd;python -c \\'import azureml.core;print(azureml.core.VERSION)\\'\"'\n",
    "sh_command\n",
    "client = docker.from_env()\n",
    "client.containers.run(docker_image_name, \n",
    "                      remove=True,\n",
    "                      volumes={os.getenv('DOCKER_CONTAINER_MOUNT_POINT'): {'bind': '/workspace', 'mode': 'rw'}},\n",
    "                      working_dir='/',\n",
    "                      command=sh_command)"
   ]
  },
  {
   "cell_type": "markdown",
   "metadata": {},
   "source": [
    "Docker containers can also be run in cli \n",
    "\n",
    "Here we also create a log file to capture commands execution in container. If flag docker_test_run_devito_tests is True, we run \n",
    "and capture test commands output. Tests take abou 15 minutes to run. If flag docker_test_run_devito_tests is False, we show the results of a previous session. "
   ]
  },
  {
   "cell_type": "code",
   "execution_count": 15,
   "metadata": {},
   "outputs": [
    {
     "data": {
      "text/plain": [
       "'./fwi01_azureml_buildexperimentationdockerimage.log'"
      ]
     },
     "execution_count": 15,
     "metadata": {},
     "output_type": "execute_result"
    }
   ],
   "source": [
    "fwi01_log_file = os.path.join(*(['.', 'fwi01_azureml_buildexperimentationdockerimage.log']))\n",
    "fwi01_log_file"
   ]
  },
  {
   "cell_type": "markdown",
   "metadata": {},
   "source": [
    "#### Create command for running devito tests, capture output in a log file, save log file outside container"
   ]
  },
  {
   "cell_type": "code",
   "execution_count": 16,
   "metadata": {},
   "outputs": [
    {
     "data": {
      "text/plain": [
       "''"
      ]
     },
     "execution_count": 16,
     "metadata": {},
     "output_type": "execute_result"
    }
   ],
   "source": [
    "if docker_test_run_devito_tests:\n",
    "    run_devito_tests_command = ' python -m pytest tests/ '   + \\\n",
    "'> ' + fwi01_log_file +' 2>&1; ' + \\\n",
    "' mv ' + fwi01_log_file + ' /workspace/'  \n",
    "    \n",
    "    with open(os.path.join(*(['.', 'fwi01_azureml_buildexperimentationdockerimage.log'])), \"w\") as crt_log_file:\n",
    "        print('Before running e13n container... ', file=crt_log_file)\n",
    "    print('\\ncontent of devito tests log file before testing:')\n",
    "    !cat $fwi01_log_file\n",
    "else:\n",
    "    run_devito_tests_command =  '' \n",
    "\n",
    "# run_devito_tests_command =  'ls -l > ./fwi01_azureml_buildexperimentationdockerimage.log 2>&1;  mv ./fwi01_azureml_buildexperimentationdockerimage.log /workspace/'\n",
    "run_devito_tests_command"
   ]
  },
  {
   "cell_type": "code",
   "execution_count": 17,
   "metadata": {},
   "outputs": [
    {
     "data": {
      "text/plain": [
       "'docker run -it --rm  --name fwi01_azureml_container  -v /datadrive01/prj/DeepSeismic/examples/imaging/azureml_devito/notebooks:/workspace:rw fwi01acr.azurecr.io/fwi01_azureml:sdk.v1.0.69 /bin/bash -c \"conda env list ; ls -l /devito/tests;  python -c \\'import azureml.core;print(azureml.core.VERSION)\\'; cd /devito;  \"'"
      ]
     },
     "execution_count": 17,
     "metadata": {},
     "output_type": "execute_result"
    },
    {
     "name": "stdout",
     "output_type": "stream",
     "text": [
      "# conda environments:\n",
      "#\n",
      "base                     /opt/conda\n",
      "fwi01_conda_env       *  /opt/conda/envs/fwi01_conda_env\n",
      "\n",
      "total 536\n",
      "-rw-r--r-- 1 root root 11521 Oct 30 05:30 conftest.py\n",
      "-rw-r--r-- 1 root root  6006 Oct 30 05:30 test_adjoint.py\n",
      "-rw-r--r-- 1 root root 13882 Oct 30 05:30 test_autotuner.py\n",
      "-rw-r--r-- 1 root root  5902 Oct 30 05:30 test_builtins.py\n",
      "-rw-r--r-- 1 root root 21885 Oct 30 05:30 test_caching.py\n",
      "-rw-r--r-- 1 root root  9721 Oct 30 05:30 test_checkpointing.py\n",
      "-rw-r--r-- 1 root root  1095 Oct 30 05:30 test_constant.py\n",
      "-rw-r--r-- 1 root root 54642 Oct 30 05:30 test_data.py\n",
      "-rw-r--r-- 1 root root   481 Oct 30 05:30 test_dependency_bugs.py\n",
      "-rw-r--r-- 1 root root 16506 Oct 30 05:30 test_derivatives.py\n",
      "-rw-r--r-- 1 root root  1473 Oct 30 05:30 test_differentiable.py\n",
      "-rw-r--r-- 1 root root 30846 Oct 30 05:30 test_dimension.py\n",
      "-rw-r--r-- 1 root root 21233 Oct 30 05:30 test_dle.py\n",
      "-rw-r--r-- 1 root root  1169 Oct 30 05:30 test_docstrings.py\n",
      "-rw-r--r-- 1 root root 26928 Oct 30 05:30 test_dse.py\n",
      "-rw-r--r-- 1 root root  8205 Oct 30 05:30 test_gradient.py\n",
      "-rw-r--r-- 1 root root 15227 Oct 30 05:30 test_interpolation.py\n",
      "-rw-r--r-- 1 root root 31514 Oct 30 05:30 test_ir.py\n",
      "-rw-r--r-- 1 root root 62102 Oct 30 05:30 test_mpi.py\n",
      "-rw-r--r-- 1 root root 61208 Oct 30 05:30 test_operator.py\n",
      "-rw-r--r-- 1 root root 13006 Oct 30 05:30 test_ops.py\n",
      "-rw-r--r-- 1 root root 12228 Oct 30 05:30 test_pickle.py\n",
      "-rw-r--r-- 1 root root  1809 Oct 30 05:30 test_resample.py\n",
      "-rw-r--r-- 1 root root  1754 Oct 30 05:30 test_save.py\n",
      "-rw-r--r-- 1 root root  5711 Oct 30 05:30 test_subdomains.py\n",
      "-rw-r--r-- 1 root root  3320 Oct 30 05:30 test_symbolic_coefficients.py\n",
      "-rw-r--r-- 1 root root  3186 Oct 30 05:30 test_timestepping.py\n",
      "-rw-r--r-- 1 root root   603 Oct 30 05:30 test_tools.py\n",
      "-rw-r--r-- 1 root root  3296 Oct 30 05:30 test_tti.py\n",
      "-rw-r--r-- 1 root root  8835 Oct 30 05:30 test_visitors.py\n",
      "-rw-r--r-- 1 root root 21800 Oct 30 05:30 test_yask.py\n",
      "1.0.69\n",
      "\n",
      "content of devito tests log file after testing:\n",
      "============================= test session starts ==============================\n",
      "platform linux -- Python 3.6.9, pytest-5.2.1, py-1.8.0, pluggy-0.13.0\n",
      "rootdir: /devito, inifile: setup.cfg\n",
      "plugins: nbval-0.9.3, cov-2.7.1\n",
      "collected 912 items / 2 skipped / 910 selected\n",
      "\n",
      "tests/test_adjoint.py ..........................                         [  2%]\n",
      "tests/test_autotuner.py ..........s....                                  [  4%]\n",
      "tests/test_builtins.py ....s.s.s                                         [  5%]\n",
      "tests/test_caching.py ..................................                 [  9%]\n",
      "tests/test_checkpointing.py .......                                      [  9%]\n",
      "tests/test_constant.py .                                                 [ 10%]\n",
      "tests/test_data.py ..........................sssssssssssssss.ss..        [ 15%]\n",
      "tests/test_dependency_bugs.py .                                          [ 15%]\n",
      "tests/test_derivatives.py .............................................. [ 20%]\n",
      "........................................................................ [ 28%]\n",
      ".........................................................F...F.......... [ 36%]\n",
      "......                                                                   [ 36%]\n",
      "tests/test_differentiable.py ..                                          [ 36%]\n",
      "tests/test_dimension.py ...............................                  [ 40%]\n",
      "tests/test_dle.py ...................................................... [ 46%]\n",
      ".........................................                                [ 50%]\n",
      "tests/test_docstrings.py ................                                [ 52%]\n",
      "tests/test_dse.py ......x............................................... [ 58%]\n",
      ".......................s....                                             [ 61%]\n",
      "tests/test_gradient.py ....                                              [ 61%]\n",
      "tests/test_interpolation.py ........................                     [ 64%]\n",
      "tests/test_ir.py ....................................................... [ 70%]\n",
      "................                                                         [ 72%]\n",
      "tests/test_mpi.py ssssssssssssssssssssssssssssssssssssssssssssssssssssss [ 78%]\n",
      "ss                                                                       [ 78%]\n",
      "tests/test_operator.py ................................................. [ 83%]\n",
      "........................................................................ [ 91%]\n",
      "..................                                                       [ 93%]\n",
      "tests/test_pickle.py .................ss.                                [ 95%]\n",
      "tests/test_resample.py .                                                 [ 96%]\n",
      "tests/test_save.py ..                                                    [ 96%]\n",
      "tests/test_subdomains.py ...                                             [ 96%]\n",
      "tests/test_symbolic_coefficients.py .....F                               [ 97%]\n",
      "tests/test_timestepping.py .......                                       [ 98%]\n",
      "tests/test_tools.py .....                                                [ 98%]\n",
      "tests/test_tti.py ....                                                   [ 99%]\n",
      "tests/test_visitors.py .........                                         [100%]\n",
      "\n",
      "=================================== FAILURES ===================================\n",
      "____________________ TestFD.test_fd_adjoint[dx2-dx2-1-1-12] ____________________\n",
      "\n",
      "self = <test_derivatives.TestFD object at 0x7ff170723208>, so = 12, ndim = 1\n",
      "derivative = 'dx2', adjoint_name = 'dx2', adjoint_coeff = 1\n",
      "\n",
      "    @pytest.mark.parametrize('so', [2, 4, 8, 12])\n",
      "    @pytest.mark.parametrize('ndim', [1, 2])\n",
      "    @pytest.mark.parametrize('derivative, adjoint_name, adjoint_coeff', [\n",
      "        ('dx', 'dx', -1),\n",
      "        ('dx2', 'dx2', 1),\n",
      "        ('dxl', 'dxr', -1),\n",
      "        ('dxr', 'dxl', -1)])\n",
      "    def test_fd_adjoint(self, so, ndim, derivative, adjoint_name, adjoint_coeff):\n",
      "        grid = Grid(shape=tuple([51]*ndim), extent=tuple([25]*ndim))\n",
      "        x = grid.dimensions[0]\n",
      "        f = Function(name='f', grid=grid, space_order=so)\n",
      "        f_deriv = Function(name='f_deriv', grid=grid, space_order=so)\n",
      "        g = Function(name='g', grid=grid, space_order=so)\n",
      "        g_deriv = Function(name='g_deriv', grid=grid, space_order=so)\n",
      "    \n",
      "        # Fill f and g with smooth cos/sin\n",
      "        Operator([Eq(g, cos(2*np.pi*x/5)), Eq(f, sin(2*np.pi*x/8))]).apply()\n",
      "        # Check symbolic expression are expected ones for the adjoint .T\n",
      "        deriv = getattr(f, derivative)\n",
      "        expected = adjoint_coeff * getattr(f, adjoint_name).evaluate\n",
      "        assert deriv.T.evaluate == expected\n",
      "    \n",
      "        # Compute numerical derivatives and verify dot test\n",
      "        #  i.e <f.dx, g> = <f, g.dx.T>\n",
      "    \n",
      "        eq_f = Eq(f_deriv, deriv)\n",
      "        eq_g = Eq(g_deriv, getattr(g, derivative).T)\n",
      "    \n",
      "        op = Operator([eq_f, eq_g])\n",
      "        op()\n",
      "    \n",
      "        a = np.dot(f_deriv.data.reshape(-1), g.data.reshape(-1))\n",
      "        b = np.dot(g_deriv.data.reshape(-1), f.data.reshape(-1))\n",
      ">       assert np.isclose(1 - a/b, 0, atol=1e-5)\n",
      "E       assert False\n",
      "E        +  where False = <function isclose at 0x7ff19ca7d1e0>((1 - (0.22231627 / 0.2223134)), 0, atol=1e-05)\n",
      "E        +    where <function isclose at 0x7ff19ca7d1e0> = np.isclose\n",
      "\n",
      "tests/test_derivatives.py:394: AssertionError\n",
      "----------------------------- Captured stderr call -----------------------------\n",
      "Operator `Kernel` run in 0.01 s\n",
      "Operator `Kernel` run in 0.01 s\n",
      "------------------------------ Captured log call -------------------------------\n",
      "INFO     Devito:logger.py:121 Operator `Kernel` run in 0.01 s\n",
      "INFO     Devito:logger.py:121 Operator `Kernel` run in 0.01 s\n",
      "____________________ TestFD.test_fd_adjoint[dx2-dx2-1-2-12] ____________________\n",
      "\n",
      "self = <test_derivatives.TestFD object at 0x7ff15f9c6a58>, so = 12, ndim = 2\n",
      "derivative = 'dx2', adjoint_name = 'dx2', adjoint_coeff = 1\n",
      "\n",
      "    @pytest.mark.parametrize('so', [2, 4, 8, 12])\n",
      "    @pytest.mark.parametrize('ndim', [1, 2])\n",
      "    @pytest.mark.parametrize('derivative, adjoint_name, adjoint_coeff', [\n",
      "        ('dx', 'dx', -1),\n",
      "        ('dx2', 'dx2', 1),\n",
      "        ('dxl', 'dxr', -1),\n",
      "        ('dxr', 'dxl', -1)])\n",
      "    def test_fd_adjoint(self, so, ndim, derivative, adjoint_name, adjoint_coeff):\n",
      "        grid = Grid(shape=tuple([51]*ndim), extent=tuple([25]*ndim))\n",
      "        x = grid.dimensions[0]\n",
      "        f = Function(name='f', grid=grid, space_order=so)\n",
      "        f_deriv = Function(name='f_deriv', grid=grid, space_order=so)\n",
      "        g = Function(name='g', grid=grid, space_order=so)\n",
      "        g_deriv = Function(name='g_deriv', grid=grid, space_order=so)\n",
      "    \n",
      "        # Fill f and g with smooth cos/sin\n",
      "        Operator([Eq(g, cos(2*np.pi*x/5)), Eq(f, sin(2*np.pi*x/8))]).apply()\n",
      "        # Check symbolic expression are expected ones for the adjoint .T\n",
      "        deriv = getattr(f, derivative)\n",
      "        expected = adjoint_coeff * getattr(f, adjoint_name).evaluate\n",
      "        assert deriv.T.evaluate == expected\n",
      "    \n",
      "        # Compute numerical derivatives and verify dot test\n",
      "        #  i.e <f.dx, g> = <f, g.dx.T>\n",
      "    \n",
      "        eq_f = Eq(f_deriv, deriv)\n",
      "        eq_g = Eq(g_deriv, getattr(g, derivative).T)\n",
      "    \n",
      "        op = Operator([eq_f, eq_g])\n",
      "        op()\n",
      "    \n",
      "        a = np.dot(f_deriv.data.reshape(-1), g.data.reshape(-1))\n",
      "        b = np.dot(g_deriv.data.reshape(-1), f.data.reshape(-1))\n",
      ">       assert np.isclose(1 - a/b, 0, atol=1e-5)\n",
      "E       assert False\n",
      "E        +  where False = <function isclose at 0x7ff19ca7d1e0>((1 - (11.3381815 / 11.338006)), 0, atol=1e-05)\n",
      "E        +    where <function isclose at 0x7ff19ca7d1e0> = np.isclose\n",
      "\n",
      "tests/test_derivatives.py:394: AssertionError\n",
      "----------------------------- Captured stderr call -----------------------------\n",
      "Operator `Kernel` run in 0.01 s\n",
      "/tmp/devito-jitcache-uid0/eef4d81cb97672165f9c867b35ecef3116800d37.c: In function ‘Kernel’:\n",
      "/tmp/devito-jitcache-uid0/eef4d81cb97672165f9c867b35ecef3116800d37.c:39: warning: ignoring #pragma omp simd [-Wunknown-pragmas]\n",
      "     #pragma omp simd aligned(f,f_deriv,g,g_deriv:32)\n",
      " \n",
      "Operator `Kernel` run in 0.01 s\n",
      "------------------------------ Captured log call -------------------------------\n",
      "INFO     Devito:logger.py:121 Operator `Kernel` run in 0.01 s\n",
      "INFO     Devito:logger.py:121 Operator `Kernel` run in 0.01 s\n",
      "______________________ TestSC.test_function_coefficients _______________________\n",
      "\n",
      "self = <test_symbolic_coefficients.TestSC object at 0x7ff15cd436a0>\n",
      "\n",
      "    def test_function_coefficients(self):\n",
      "        \"\"\"Test that custom function coefficients return the expected result\"\"\"\n",
      "        so = 2\n",
      "        grid = Grid(shape=(4, 4))\n",
      "        f0 = TimeFunction(name='f0', grid=grid, space_order=so, coefficients='symbolic')\n",
      "        f1 = TimeFunction(name='f1', grid=grid, space_order=so)\n",
      "        x, y = grid.dimensions\n",
      "    \n",
      "        s = Dimension(name='s')\n",
      "        ncoeffs = so+1\n",
      "    \n",
      "        wshape = list(grid.shape)\n",
      "        wshape.append(ncoeffs)\n",
      "        wshape = as_tuple(wshape)\n",
      "    \n",
      "        wdims = list(grid.dimensions)\n",
      "        wdims.append(s)\n",
      "        wdims = as_tuple(wdims)\n",
      "    \n",
      "        w = Function(name='w', dimensions=wdims, shape=wshape)\n",
      "        w.data[:, :, 0] = -0.5/grid.spacing[0]\n",
      "        w.data[:, :, 1] = 0.0\n",
      "        w.data[:, :, 2] = 0.5/grid.spacing[0]\n",
      "    \n",
      "        f_x_coeffs = Coefficient(1, f0, x, w)\n",
      "    \n",
      "        subs = Substitutions(f_x_coeffs)\n",
      "    \n",
      "        eq0 = Eq(f0.dt + f0.dx, 1, coefficients=subs)\n",
      "        eq1 = Eq(f1.dt + f1.dx, 1)\n",
      "    \n",
      "        stencil0 = solve(eq0.evaluate, f0.forward)\n",
      "        stencil1 = solve(eq1.evaluate, f1.forward)\n",
      "    \n",
      "        op0 = Operator(Eq(f0.forward, stencil0))\n",
      "        op1 = Operator(Eq(f1.forward, stencil1))\n",
      "    \n",
      "        op0(time_m=0, time_M=5, dt=1.0)\n",
      "        op1(time_m=0, time_M=5, dt=1.0)\n",
      "    \n",
      ">       assert np.all(np.isclose(f0.data[:] - f1.data[:], 0.0, atol=1e-5, rtol=0))\n",
      "E       assert Data(False)\n",
      "E        +  where Data(False) = <function all at 0x7ff19ca90d90>(Data([[[ True,  True,  True,  True],\\n       [False, False, False, False],\\n       [ True,  True,  True,  True],\\n       ...True],\\n       [ True,  True,  True,  True],\\n       [ True,  True,  True,  True],\\n       [ True,  True,  True,  True]]]))\n",
      "E        +    where <function all at 0x7ff19ca90d90> = np.all\n",
      "E        +    and   Data([[[ True,  True,  True,  True],\\n       [False, False, False, False],\\n       [ True,  True,  True,  True],\\n       ...True],\\n       [ True,  True,  True,  True],\\n       [ True,  True,  True,  True],\\n       [ True,  True,  True,  True]]]) = <function isclose at 0x7ff19ca7d1e0>((Data([[[-11.4375 , -11.4375 , -11.4375 , -11.4375 ],\\n       [ 49.59375,  49.59375,  49.59375,  49.59375],\\n       [ -6....    [-24.25   , -24.25   , -24.25   , -24.25   ],\\n       [ -1.9375 ,  -1.9375 ,  -1.9375 ,  -1.9375 ]]], dtype=float32) - Data([[[-11.437502 , -11.437502 , -11.437502 , -11.437502 ],\\n       [ 49.59374  ,  49.59374  ,  49.59374  ,  49.59374 ....249996 , -24.249996 , -24.249996 ],\\n       [ -1.9375012,  -1.9375012,  -1.9375012,  -1.9375012]]],\\n     dtype=float32)), 0.0, atol=1e-05, rtol=0)\n",
      "E        +      where <function isclose at 0x7ff19ca7d1e0> = np.isclose\n",
      "\n",
      "tests/test_symbolic_coefficients.py:96: AssertionError\n",
      "----------------------------- Captured stderr call -----------------------------\n",
      "/tmp/devito-jitcache-uid0/28a0c1d4f6f5711828a8c4cd1ff27eaa7607404e.c: In function ‘Kernel’:\n",
      "/tmp/devito-jitcache-uid0/28a0c1d4f6f5711828a8c4cd1ff27eaa7607404e.c:39: warning: ignoring #pragma omp simd [-Wunknown-pragmas]\n",
      "       #pragma omp simd aligned(f0,w:32)\n",
      " \n",
      "Operator `Kernel` run in 0.01 s\n",
      "/tmp/devito-jitcache-uid0/b4ec5c37d966771de3236dbb40d450f5a48d787b.c: In function ‘Kernel’:\n",
      "/tmp/devito-jitcache-uid0/b4ec5c37d966771de3236dbb40d450f5a48d787b.c:38: warning: ignoring #pragma omp simd [-Wunknown-pragmas]\n",
      "       #pragma omp simd aligned(f1:32)\n",
      " \n",
      "Operator `Kernel` run in 0.01 s\n",
      "------------------------------ Captured log call -------------------------------\n",
      "INFO     Devito:logger.py:121 Operator `Kernel` run in 0.01 s\n",
      "INFO     Devito:logger.py:121 Operator `Kernel` run in 0.01 s\n",
      "======= 3 failed, 828 passed, 82 skipped, 1 xfailed in 830.53s (0:13:50) =======\n"
     ]
    }
   ],
   "source": [
    "cli_command='docker run -it --rm  --name fwi01_azureml_container ' +\\\n",
    "' -v '+os.getenv('DOCKER_CONTAINER_MOUNT_POINT')+':/workspace:rw ' + \\\n",
    "docker_image_name + \\\n",
    "' /bin/bash -c \"conda env list ; ls -l /devito/tests;  '  + \\\n",
    "'python -c \\'import azureml.core;print(azureml.core.VERSION)\\'; '  + \\\n",
    "'cd /devito; '  + \\\n",
    "run_devito_tests_command +\\\n",
    "' \"'\n",
    "\n",
    "cli_command\n",
    "! $cli_command\n",
    "# # ============= 774 passed, 70 skipped, 1 xfailed in 1106.76 seconds =============\n",
    "print('\\ncontent of devito tests log file after testing:')\n",
    "!cat $fwi01_log_file"
   ]
  },
  {
   "cell_type": "markdown",
   "metadata": {},
   "source": [
    "###### Use the ACR created in previous notebook or docker hub to push your image"
   ]
  },
  {
   "cell_type": "code",
   "execution_count": 18,
   "metadata": {},
   "outputs": [
    {
     "data": {
      "text/plain": [
       "'az acr login --name fwi01acr'"
      ]
     },
     "execution_count": 18,
     "metadata": {},
     "output_type": "execute_result"
    },
    {
     "name": "stdout",
     "output_type": "stream",
     "text": [
      "Login Succeeded\r\n",
      "WARNING! Your password will be stored unencrypted in /root/.docker/config.json.\r\n",
      "Configure a credential helper to remove this warning. See\r\n",
      "https://docs.docker.com/engine/reference/commandline/login/#credentials-store\r\n",
      "\r\n",
      "\u001b[0m"
     ]
    }
   ],
   "source": [
    "# docker_pwd = os.getenv('DOCKER_PWD')\n",
    "# docker_login = os.getenv('DOCKER_LOGIN')\n",
    "# !docker login -u=$docker_login -p=$docker_pwd\n",
    "# !docker push {docker_image_name}\n",
    "\n",
    "%dotenv $dotenv_file_path\n",
    "cli_command='az acr login --name '+os.getenv('ACR_NAME')\n",
    "# print cli command\n",
    "cli_command\n",
    "\n",
    "# run cli command\n",
    "cli_command = cli_command+' --username '+os.getenv('ACR_USERNAME') + ' --password ' + os.getenv('ACR_PASSWORD')\n",
    "! $cli_command"
   ]
  },
  {
   "cell_type": "code",
   "execution_count": 19,
   "metadata": {},
   "outputs": [
    {
     "data": {
      "text/plain": [
       "'docker push fwi01acr.azurecr.io/fwi01_azureml:sdk.v1.0.69'"
      ]
     },
     "execution_count": 19,
     "metadata": {},
     "output_type": "execute_result"
    }
   ],
   "source": [
    "cli_command='docker push '+docker_image_name\n",
    "cli_command"
   ]
  },
  {
   "cell_type": "code",
   "execution_count": 20,
   "metadata": {},
   "outputs": [
    {
     "name": "stdout",
     "output_type": "stream",
     "text": [
      "The push refers to repository [fwi01acr.azurecr.io/fwi01_azureml]\n",
      "\n",
      "\u001b[1B8b071694: Preparing \n",
      "\u001b[1B5b417f99: Preparing \n",
      "\u001b[1Bd24aa1b4: Preparing \n",
      "\u001b[1Be41d536b: Preparing \n",
      "\u001b[1Bf8fc4c9a: Preparing \n",
      "\u001b[1Bba47210e: Preparing \n",
      "\u001b[2Bba47210e: Layer already exists \u001b[3A\u001b[1K\u001b[K\u001b[5A\u001b[1K\u001b[K\u001b[7A\u001b[1K\u001b[K\u001b[2A\u001b[1K\u001b[Ksdk.v1.0.69: digest: sha256:9acb10b41bf2e750519b303c365870f67a64c059b90d8868ff139e7d54446948 size: 1800\n"
     ]
    }
   ],
   "source": [
    "! $cli_command"
   ]
  },
  {
   "cell_type": "code",
   "execution_count": 21,
   "metadata": {},
   "outputs": [
    {
     "name": "stdout",
     "output_type": "stream",
     "text": [
      "Finished running 010_CreateExperimentationDockerImage_GeophysicsTutorial_FWI_Azure_devito!\n"
     ]
    }
   ],
   "source": [
    "# !jupyter nbconvert 010_CreateExperimentationDockerImage_GeophysicsTutorial_FWI_Azure_devito --to html\n",
    "print('Finished running 010_CreateExperimentationDockerImage_GeophysicsTutorial_FWI_Azure_devito!')"
   ]
  },
  {
   "cell_type": "code",
   "execution_count": null,
   "metadata": {},
   "outputs": [],
   "source": []
  }
 ],
 "metadata": {
  "kernelspec": {
   "display_name": "Python 3",
   "language": "python",
   "name": "python3"
  },
  "language_info": {
   "codemirror_mode": {
    "name": "ipython",
    "version": 3
   },
   "file_extension": ".py",
   "mimetype": "text/x-python",
   "name": "python",
   "nbconvert_exporter": "python",
   "pygments_lexer": "ipython3",
   "version": "3.6.9"
  }
 },
 "nbformat": 4,
 "nbformat_minor": 2
}
