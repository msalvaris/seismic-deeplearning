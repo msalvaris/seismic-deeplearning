{
 "cells": [
  {
   "cell_type": "markdown",
   "metadata": {},
   "source": [
    "# FWI demo based on: \n",
    "This project ports devito (https://github.com/opesci/devito) into Azure and runs tutorial notebooks at:\n",
    "https://nbviewer.jupyter.org/github/opesci/devito/blob/master/examples/seismic/tutorials/\n",
    "\n",
    "\n",
    "\n",
    "In this notebook we run the devito demo [notebooks](https://nbviewer.jupyter.org/github/opesci/devito/blob/master/examples/seismic/tutorials/) mentioned above by using an [AzureML estimator](https://docs.microsoft.com/en-us/python/api/azureml-train-core/azureml.train.estimator.estimator?view=azure-ml-py) with custom docker image. The docker image and associated docker file were created in previous notebook.\n",
    "\n",
    "<a id='devito_in_AzureML_demoing_modes'></a>\n",
    "####   This notebook is used as a control plane to submit experimentation jobs running devito in Azure in two modes (see [remote run azureml python script file invoking devito](#devito_demo_mode)):\n",
    " - [Mode 1](#devito_demo_mode_1):\n",
    "      - uses custom code (slightly modified graphing functions save images to files too) \n",
    "      - experimentation job is defined by the devito code that is packaged as a py file to be run on an Azure remote compute target\n",
    "      - experimentation job can be used to track metrics or other artifacts (images)\n",
    "  \n",
    " - Mode 2:\n",
    "      - papermill is invoked via cli or via its Python API to run unedited devito demo notebooks (https://github.com/opesci/devito/tree/master/examples/seismic/tutorials) on the remote compute target and get back the results as saved notebooks that are then Available in Azure portal. \n"
   ]
  },
  {
   "cell_type": "code",
   "execution_count": 1,
   "metadata": {},
   "outputs": [],
   "source": [
    "# Allow multiple displays per cell\n",
    "from IPython.core.interactiveshell import InteractiveShell\n",
    "InteractiveShell.ast_node_interactivity = \"all\" "
   ]
  },
  {
   "cell_type": "code",
   "execution_count": 2,
   "metadata": {},
   "outputs": [],
   "source": [
    "import sys, os\n",
    "import shutil\n",
    "import urllib\n",
    "import azureml.core\n",
    "from azureml.core import Workspace, Experiment\n",
    "from azureml.core.compute import ComputeTarget, AmlCompute\n",
    "from azureml.core.compute_target import ComputeTargetException\n",
    "from azureml.core.runconfig import MpiConfiguration\n",
    "\n",
    "\n",
    "# from azureml.core.datastore import Datastore\n",
    "# from azureml.data.data_reference import DataReference\n",
    "# from azureml.pipeline.steps import HyperDriveStep\n",
    "# from azureml.pipeline.core import Pipeline, PipelineData\n",
    "# from azureml.train.dnn import TensorFlow\n",
    "\n",
    "from azureml.train.estimator import Estimator\n",
    "from azureml.widgets import RunDetails\n",
    "\n",
    "import platform"
   ]
  },
  {
   "cell_type": "code",
   "execution_count": 3,
   "metadata": {},
   "outputs": [
    {
     "name": "stdout",
     "output_type": "stream",
     "text": [
      "Azure ML SDK Version:  1.0.69\n"
     ]
    },
    {
     "data": {
      "text/plain": [
       "'Linux-4.15.0-1061-azure-x86_64-with-debian-10.0'"
      ]
     },
     "execution_count": 3,
     "metadata": {},
     "output_type": "execute_result"
    },
    {
     "data": {
      "text/plain": [
       "'/workspace/examples/imaging/azureml_devito/notebooks'"
      ]
     },
     "execution_count": 3,
     "metadata": {},
     "output_type": "execute_result"
    }
   ],
   "source": [
    "print(\"Azure ML SDK Version: \", azureml.core.VERSION)\n",
    "platform.platform()\n",
    "os.getcwd()"
   ]
  },
  {
   "cell_type": "code",
   "execution_count": 4,
   "metadata": {},
   "outputs": [
    {
     "data": {
      "text/plain": [
       "[None]"
      ]
     },
     "execution_count": 4,
     "metadata": {},
     "output_type": "execute_result"
    },
    {
     "data": {
      "text/plain": [
       "'./../not_shared/general.env'"
      ]
     },
     "execution_count": 4,
     "metadata": {},
     "output_type": "execute_result"
    }
   ],
   "source": [
    "def add_path_to_sys_path(path_to_append):\n",
    "    if not (any(path_to_append in paths for paths in sys.path)):\n",
    "        sys.path.append(path_to_append)\n",
    "        \n",
    "auxiliary_files_dir = os.path.join(*(['.', 'src']))\n",
    "paths_to_append = [os.path.join(os.getcwd(), auxiliary_files_dir)]\n",
    "[add_path_to_sys_path(crt_path) for crt_path in paths_to_append]\n",
    "\n",
    "import project_utils\n",
    "prj_consts = project_utils.project_consts()\n",
    "\n",
    "dotenv_file_path = os.path.join(*(prj_consts.DOTENV_FILE_PATH))\n",
    "dotenv_file_path"
   ]
  },
  {
   "cell_type": "code",
   "execution_count": 5,
   "metadata": {},
   "outputs": [],
   "source": [
    "%load_ext dotenv"
   ]
  },
  {
   "cell_type": "code",
   "execution_count": 6,
   "metadata": {},
   "outputs": [
    {
     "data": {
      "text/plain": [
       "'./../not_shared'"
      ]
     },
     "execution_count": 6,
     "metadata": {},
     "output_type": "execute_result"
    }
   ],
   "source": [
    "workspace_config_dir = os.path.join(*(prj_consts.AML_WORKSPACE_CONFIG_DIR))\n",
    "workspace_config_file = prj_consts.AML_WORKSPACE_CONFIG_FILE_NAME\n",
    "workspace_config_dir"
   ]
  },
  {
   "cell_type": "code",
   "execution_count": 7,
   "metadata": {},
   "outputs": [
    {
     "data": {
      "text/plain": [
       "'./../temp/devito_tutorial/01_modelling.py'"
      ]
     },
     "execution_count": 7,
     "metadata": {},
     "output_type": "execute_result"
    },
    {
     "data": {
      "text/plain": [
       "'./../temp/devito_tutorial/azureml_01_modelling.py'"
      ]
     },
     "execution_count": 7,
     "metadata": {},
     "output_type": "execute_result"
    }
   ],
   "source": [
    "%dotenv $dotenv_file_path\n",
    "\n",
    "script_folder = prj_consts.AML_EXPERIMENT_DIR + ['devito_tutorial']\n",
    "\n",
    "devito_training_script_file = '01_modelling.py' # hardcoded in file azureml_training_script_full_file_name below\n",
    "azureml_training_script_file = 'azureml_'+devito_training_script_file\n",
    "experimentName = '020_AzureMLEstimator'\n",
    "\n",
    "os.makedirs(os.path.join(*(script_folder)), exist_ok=True)\n",
    "script_path = os.path.join(*(script_folder))\n",
    "training_script_full_file_name = os.path.join(script_path, devito_training_script_file)\n",
    "azureml_training_script_full_file_name = os.path.join(script_path, azureml_training_script_file)\n",
    "\n",
    "training_script_full_file_name\n",
    "azureml_training_script_full_file_name"
   ]
  },
  {
   "cell_type": "markdown",
   "metadata": {},
   "source": [
    "<a id='devito_demo_mode_1'></a>\n",
    " \n",
    "##### devito in Azure ML demo mode 1\n",
    "Create devito demo script based on \n",
    "https://nbviewer.jupyter.org/github/opesci/devito/blob/master/examples/seismic/tutorials/01_modelling.ipynb\n",
    "\n",
    "[Back](#devito_in_AzureML_demoing_modes) to summary of modes od demoing devito in AzureML.\n",
    "\n",
    "Main purpose of this script is to extend _plot_velocity()_ and _plot_shotrecord()_ devito [plotting functions](https://github.com/opesci/devito/blob/master/examples/seismic/plotting.py) to allow the mto work in batch mode, i.e. save output to a file."
   ]
  },
  {
   "cell_type": "code",
   "execution_count": 8,
   "metadata": {},
   "outputs": [
    {
     "name": "stdout",
     "output_type": "stream",
     "text": [
      "Overwriting ./../temp/devito_tutorial/01_modelling.py\n"
     ]
    }
   ],
   "source": [
    "%%writefile $training_script_full_file_name\n",
    "\n",
    "import numpy as np\n",
    "import os, argparse\n",
    "\n",
    "from examples.seismic import Model\n",
    "from examples.seismic import TimeAxis\n",
    "from examples.seismic import Receiver\n",
    "from devito import TimeFunction\n",
    "from devito import Eq, solve\n",
    "from devito import Operator\n",
    "\n",
    "\n",
    "# try:\n",
    "import matplotlib as mpl\n",
    "import matplotlib.pyplot as plt\n",
    "from matplotlib import cm\n",
    "from mpl_toolkits.axes_grid1 import make_axes_locatable\n",
    "\n",
    "mpl.rc('font', size=16)\n",
    "mpl.rc('figure', figsize=(8, 6))\n",
    "# except:\n",
    "#     plt = None\n",
    "#     cm = None\n",
    "        \n",
    "\n",
    "\n",
    "# \"all\" plotting utils in devito do not save to file, so we extend them here\n",
    "# https://github.com/opesci/devito/blob/master/examples/seismic/plotting.py\n",
    "def plot_velocity(model, source=None, receiver=None, colorbar=True, file=None):\n",
    "    \"\"\"\n",
    "    Plot a two-dimensional velocity field from a seismic `Model`\n",
    "    object. Optionally also includes point markers for sources and receivers.\n",
    "\n",
    "    Parameters\n",
    "    ----------\n",
    "    model : Model\n",
    "        Object that holds the velocity model.\n",
    "    source : array_like or float\n",
    "        Coordinates of the source point.\n",
    "    receiver : array_like or float\n",
    "        Coordinates of the receiver points.\n",
    "    colorbar : bool\n",
    "        Option to plot the colorbar.\n",
    "    \"\"\"\n",
    "    domain_size = 1.e-3 * np.array(model.domain_size)\n",
    "    extent = [model.origin[0], model.origin[0] + domain_size[0],\n",
    "              model.origin[1] + domain_size[1], model.origin[1]]\n",
    "\n",
    "    plot = plt.imshow(np.transpose(model.vp.data), animated=True, cmap=cm.jet,\n",
    "                      vmin=np.min(model.vp.data), vmax=np.max(model.vp.data),\n",
    "                      extent=extent)\n",
    "    plt.xlabel('X position (km)')\n",
    "    plt.ylabel('Depth (km)')\n",
    "\n",
    "    # Plot source points, if provided\n",
    "    if receiver is not None:\n",
    "        plt.scatter(1e-3*receiver[:, 0], 1e-3*receiver[:, 1],\n",
    "                    s=25, c='green', marker='D')\n",
    "\n",
    "    # Plot receiver points, if provided\n",
    "    if source is not None:\n",
    "        plt.scatter(1e-3*source[:, 0], 1e-3*source[:, 1],\n",
    "                    s=25, c='red', marker='o')\n",
    "\n",
    "    # Ensure axis limits\n",
    "    plt.xlim(model.origin[0], model.origin[0] + domain_size[0])\n",
    "    plt.ylim(model.origin[1] + domain_size[1], model.origin[1])\n",
    "\n",
    "    # Create aligned colorbar on the right\n",
    "    if colorbar:\n",
    "        ax = plt.gca()\n",
    "        divider = make_axes_locatable(ax)\n",
    "        cax = divider.append_axes(\"right\", size=\"5%\", pad=0.05)\n",
    "        cbar = plt.colorbar(plot, cax=cax)\n",
    "        cbar.set_label('Velocity (km/s)')\n",
    "    plt.show()\n",
    "    \n",
    "    if file is not None:\n",
    "        plt.savefig(file)\n",
    "        print('plotted image saved as {} file'.format(file))\n",
    "        \n",
    "    plt.clf()\n",
    "\n",
    "def plot_shotrecord(rec, model, t0, tn, colorbar=True, file=None):\n",
    "    \"\"\"\n",
    "    Plot a shot record (receiver values over time).\n",
    "\n",
    "    Parameters\n",
    "    ----------\n",
    "    rec :\n",
    "        Receiver data with shape (time, points).\n",
    "    model : Model\n",
    "        object that holds the velocity model.\n",
    "    t0 : int\n",
    "        Start of time dimension to plot.\n",
    "    tn : int\n",
    "        End of time dimension to plot.\n",
    "    \"\"\"\n",
    "    scale = np.max(rec) / 10.\n",
    "    extent = [model.origin[0], model.origin[0] + 1e-3*model.domain_size[0],\n",
    "              1e-3*tn, t0]\n",
    "\n",
    "    plot = plt.imshow(rec, vmin=-scale, vmax=scale, cmap=cm.gray, extent=extent)\n",
    "    plt.xlabel('X position (km)')\n",
    "    plt.ylabel('Time (s)')\n",
    "\n",
    "    # Create aligned colorbar on the right\n",
    "    if colorbar:\n",
    "        ax = plt.gca()\n",
    "        divider = make_axes_locatable(ax)\n",
    "        cax = divider.append_axes(\"right\", size=\"5%\", pad=0.05)\n",
    "        plt.colorbar(plot, cax=cax)\n",
    "    plt.show()   \n",
    "    \n",
    "    if file is not None:\n",
    "        plt.savefig(file)\n",
    "        print('plotted image saved as {} file'.format(file))\n",
    "        \n",
    "    plt.clf()\n",
    "\n",
    "def main(output_folder):      \n",
    "    # 1. Define the physical problem\n",
    "    # The first step is to define the physical model:\n",
    "    #  - physical dimensions of interest\n",
    "    #  - velocity profile of this physical domain\n",
    "\n",
    "    # Define a physical size\n",
    "    shape = (101, 101)  # Number of grid point (nx, nz)\n",
    "    spacing = (10., 10.)  # Grid spacing in m. The domain size is now 1km by 1km\n",
    "    origin = (0., 0.)  # What is the location of the top left corner. This is necessary to define\n",
    "    # the absolute location of the source and receivers\n",
    "\n",
    "    # Define a velocity profile. The velocity is in km/s\n",
    "    v = np.empty(shape, dtype=np.float32)\n",
    "    v[:, :51] = 1.5\n",
    "    v[:, 51:] = 2.5\n",
    "\n",
    "    # With the velocity and model size defined, we can create the seismic model that\n",
    "    # encapsulates this properties. We also define the size of the absorbing layer as 10 grid points\n",
    "    model = Model(vp=v, origin=origin, shape=shape, spacing=spacing,\n",
    "                  space_order=2, nbpml=10)\n",
    "\n",
    "    plot_velocity(model, \n",
    "              file= os.path.join(*( [output_folder,'output000.png'])))\n",
    "    \n",
    "    # 2. Acquisition geometry\n",
    "    t0 = 0.  # Simulation starts a t=0\n",
    "    tn = 1000.  # Simulation last 1 second (1000 ms)\n",
    "    dt = model.critical_dt  # Time step from model grid spacing\n",
    "\n",
    "    time_range = TimeAxis(start=t0, stop=tn, step=dt)\n",
    "    from examples.seismic import RickerSource\n",
    "\n",
    "    f0 = 0.010  # Source peak frequency is 10Hz (0.010 kHz)\n",
    "    src = RickerSource(name='src', grid=model.grid, f0=f0,\n",
    "                       npoint=1, time_range=time_range)\n",
    "\n",
    "    # First, position source centrally in all dimensions, then set depth\n",
    "    src.coordinates.data[0, :] = np.array(model.domain_size) * .5\n",
    "    src.coordinates.data[0, -1] = 20.  # Depth is 20m\n",
    "\n",
    "    # We can plot the time signature to see the wavelet\n",
    "#     src.show()\n",
    "\n",
    "    # Create symbol for 101 receivers\n",
    "    rec = Receiver(name='rec', grid=model.grid, npoint=101, time_range=time_range)\n",
    "\n",
    "    # Prescribe even spacing for receivers along the x-axis\n",
    "    rec.coordinates.data[:, 0] = np.linspace(0, model.domain_size[0], num=101)\n",
    "    rec.coordinates.data[:, 1] = 20.  # Depth is 20m\n",
    "\n",
    "    # We can now show the source and receivers within our domain:\n",
    "    # Red dot: Source location\n",
    "    # Green dots: Receiver locations (every 4th point)\n",
    "    plot_velocity(model, source=src.coordinates.data,\n",
    "                  receiver=rec.coordinates.data[::4, :], \n",
    "              file= os.path.join(*( [output_folder,'output010.png'])))\n",
    "    \n",
    "    # Define the wavefield with the size of the model and the time dimension\n",
    "    u = TimeFunction(name=\"u\", grid=model.grid, time_order=2, space_order=2)\n",
    "\n",
    "    # We can now write the PDE\n",
    "    pde = model.m * u.dt2 - u.laplace + model.damp * u.dt\n",
    "\n",
    "    # The PDE representation is as on paper\n",
    "    pde\n",
    "    \n",
    "    # This discrete PDE can be solved in a time-marching way updating u(t+dt) from the previous time step\n",
    "    # Devito as a shortcut for u(t+dt) which is u.forward. We can then rewrite the PDE as \n",
    "    # a time marching updating equation known as a stencil using customized SymPy functions\n",
    "\n",
    "    stencil = Eq(u.forward, solve(pde, u.forward))\n",
    "    # Finally we define the source injection and receiver read function to generate the corresponding code\n",
    "    src_term = src.inject(field=u.forward, expr=src * dt**2 / model.m)\n",
    "\n",
    "    # Create interpolation expression for receivers\n",
    "    rec_term = rec.interpolate(expr=u.forward)\n",
    "\n",
    "    op = Operator([stencil] + src_term + rec_term, subs=model.spacing_map)\n",
    "    \n",
    "    op(time=time_range.num-1, dt=model.critical_dt)\n",
    "    plot_shotrecord(rec.data, model, t0, tn, \n",
    "              file= os.path.join(*( [output_folder,'output020.png'])))\n",
    "\n",
    "if __name__ == \"__main__\":\n",
    "    parser = argparse.ArgumentParser()\n",
    "    parser.add_argument('--output_folder', type=str, nargs='?', \\\n",
    "                        dest='output_folder', help='ouput artifacts location',\\\n",
    "                       default='.')\n",
    "    args = parser.parse_args()\n",
    "    \n",
    "    main(args.output_folder)"
   ]
  },
  {
   "cell_type": "markdown",
   "metadata": {},
   "source": [
    "##### Get experimentation docker image for devito"
   ]
  },
  {
   "cell_type": "code",
   "execution_count": 9,
   "metadata": {},
   "outputs": [
    {
     "data": {
      "text/plain": [
       "'fwi01_azureml:sdk.v1.0.69'"
      ]
     },
     "execution_count": 9,
     "metadata": {},
     "output_type": "execute_result"
    },
    {
     "data": {
      "text/plain": [
       "'fwi01acr.azurecr.io/fwi01_azureml:sdk.v1.0.69'"
      ]
     },
     "execution_count": 9,
     "metadata": {},
     "output_type": "execute_result"
    }
   ],
   "source": [
    "docker_repo_name = os.getenv('ACR_NAME')+'.azurecr.io' # or os.getenv('DOCKER_LOGIN')\n",
    "docker_image_name = os.getenv('EXPERIMENTATION_IMAGE_TAG')\n",
    "\n",
    "image_version = os.getenv('EXPERIMENTATION_IMAGE_VERSION')\n",
    "if image_version!=\"\":\n",
    "    docker_image_name = docker_image_name +':'+ image_version\n",
    "\n",
    "full_docker_image_name = docker_repo_name + '/' + docker_image_name\n",
    "    \n",
    "docker_image_name\n",
    "full_docker_image_name"
   ]
  },
  {
   "cell_type": "markdown",
   "metadata": {},
   "source": [
    "Extract/decide the python path in custom docker image that corresponds to desired conda environment. Without this, AzureML tries to create a separate environment."
   ]
  },
  {
   "cell_type": "code",
   "execution_count": 10,
   "metadata": {},
   "outputs": [
    {
     "data": {
      "text/plain": [
       "'docker run -i --rm  --name fwi01_azureml_container02 fwi01acr.azurecr.io/fwi01_azureml:sdk.v1.0.69 /bin/bash -c \"which python\" '"
      ]
     },
     "execution_count": 10,
     "metadata": {},
     "output_type": "execute_result"
    },
    {
     "data": {
      "text/plain": [
       "'/opt/conda/envs/fwi01_conda_env/bin/python'"
      ]
     },
     "execution_count": 10,
     "metadata": {},
     "output_type": "execute_result"
    }
   ],
   "source": [
    "get_Python_path_command='docker run -i --rm  --name fwi01_azureml_container02 '+ \\\n",
    "full_docker_image_name + \\\n",
    "' /bin/bash -c \"which python\" '\n",
    "get_Python_path_command\n",
    "\n",
    "\n",
    "import subprocess\n",
    "python_path_in_docker_image = subprocess.check_output(get_Python_path_command,shell=True,stderr=subprocess.STDOUT).\\\n",
    "decode('utf-8').strip()\n",
    "python_path_in_docker_image"
   ]
  },
  {
   "cell_type": "markdown",
   "metadata": {},
   "source": [
    "<a id='devito_demo_mode'></a>\n",
    "#### Create azureml_script_file that invokes:\n",
    " - devito exclusive custom edited training_script_file\n",
    " - unedited devito notebooks via papermill (invoked via cli and via ppapermill python API)\n",
    "\n",
    "[Back](#devito_in_AzureML_demoing_modes) to notebook summary."
   ]
  },
  {
   "cell_type": "code",
   "execution_count": 11,
   "metadata": {},
   "outputs": [
    {
     "name": "stdout",
     "output_type": "stream",
     "text": [
      "Overwriting ./../temp/devito_tutorial/azureml_01_modelling.py\n"
     ]
    }
   ],
   "source": [
    "%%writefile $azureml_training_script_full_file_name\n",
    "\n",
    "import argparse\n",
    "import os\n",
    "os.system('conda env list')\n",
    "\n",
    "import azureml.core;\n",
    "from azureml.core.run import Run\n",
    "\n",
    "print(azureml.core.VERSION)\n",
    "\n",
    "parser = argparse.ArgumentParser()\n",
    "parser.add_argument('--output_folder', type=str, dest='output_folder', help='ouput artifacts location')\n",
    "\n",
    "args = parser.parse_args()\n",
    "print('args.output_folder is {} but it will be ignored since AzureML_tracked ./outputs will be used'.format(args.output_folder))\n",
    "\n",
    "# get the Azure ML run object\n",
    "run = Run.get_context()\n",
    "\n",
    "# ./outputs/ folder is autotracked so should get uploaded at the end of the run\n",
    "output_dir_AzureML_tracked = './outputs'\n",
    "\n",
    "crt_dir = os.getcwd()\n",
    "\n",
    "cli_command= \\\n",
    "'cd /devito; /opt/conda/envs/fwi01_conda_env/bin/python '+ crt_dir +'/01_modelling.py' + \\\n",
    "' --output_folder '+ crt_dir + output_dir_AzureML_tracked+ '/' + \\\n",
    "' > '+ crt_dir + output_dir_AzureML_tracked + '/01_modelling.log' \n",
    "# + \\\n",
    "# ' 2>&1 ' + crt_dir +'/'+ output_dir_AzureML_tracked + '/devito_cli_py.log'\n",
    "print('Running devito from cli on 01_modelling.py----BEGIN-----:') \n",
    "print(cli_command); print('\\n');os.system(cli_command)\n",
    "print('Running devito from cli on 01_modelling.py----END-----:\\n\\n')\n",
    "\n",
    "cli_command= \\\n",
    "'cd /devito; papermill ' + \\\n",
    "'./examples/seismic/tutorials/02_rtm.ipynb '+\\\n",
    "crt_dir +'/outputs/02_rtm_output.ipynb  ' + \\\n",
    "'--log-output  --no-progress-bar  --kernel python3 ' + \\\n",
    "' > '+ crt_dir + output_dir_AzureML_tracked + '/02_rtm_output.log' \n",
    "# + \\\n",
    "# ' 2>&1 ' + crt_dir +'/'+ output_dir_AzureML_tracked + '/papermill_cli.log'\n",
    "\n",
    "# FIXME - activate right conda env for running papermill from cli\n",
    "activate_right_conda_env_fixed = False\n",
    "if activate_right_conda_env_fixed:\n",
    "    print('Running papermill from cli on 02_rtm.ipynb----BEGIN-----:') \n",
    "    print(cli_command); print('\\n');os.system(cli_command)\n",
    "    print('Running papermill from cli on 02_rtm.ipynb----END-----:\\n\\n') \n",
    "\n",
    "\n",
    "print('Running papermill from Python API on 03_fwi.ipynb----BEGIN-----:') \n",
    "import papermill as pm\n",
    "os.chdir('/devito')\n",
    "pm.execute_notebook(\n",
    "   './examples/seismic/tutorials/03_fwi.ipynb',\n",
    "   crt_dir +'/outputs/03_fwi_output.ipynb'\n",
    ")\n",
    "print('Running papermill from Python API on 03_fwi.ipynb----END-----:') \n",
    "\n",
    "print('Running papermill from Python API on 04_dask.ipynb----BEGIN-----:') \n",
    "import papermill as pm\n",
    "os.chdir('/devito')\n",
    "pm.execute_notebook(\n",
    "   './examples/seismic/tutorials/04_dask.ipynb',\n",
    "   crt_dir +'/outputs/04_dask_output.ipynb'\n",
    ")\n",
    "print('Running papermill from Python API on 04_dask.ipynb----END-----:') \n",
    " \n",
    "\n",
    "os.system('pwd')\n",
    "os.system('ls -l /')\n",
    "os.system('ls -l ./')\n",
    "os.system('ls -l ' +crt_dir + output_dir_AzureML_tracked)\n",
    "run.log('training_message01: ', 'finished experiment')\n",
    "print('\\n')"
   ]
  },
  {
   "cell_type": "code",
   "execution_count": 12,
   "metadata": {},
   "outputs": [
    {
     "data": {
      "text/plain": [
       "['azureml_01_modelling.py', '01_modelling.py']"
      ]
     },
     "execution_count": 12,
     "metadata": {},
     "output_type": "execute_result"
    }
   ],
   "source": [
    "script_path=os.path.join(*(script_folder))\n",
    "os.listdir(script_path)"
   ]
  },
  {
   "cell_type": "markdown",
   "metadata": {},
   "source": [
    "## Initialize workspace\n",
    "\n",
    "Initialize a workspace object from persisted configuration. If you are using an Azure Machine Learning Notebook VM, you are all set. Otherwise, make sure the config file is present at .\\config.json"
   ]
  },
  {
   "cell_type": "code",
   "execution_count": 13,
   "metadata": {},
   "outputs": [
    {
     "name": "stdout",
     "output_type": "stream",
     "text": [
      "Workspace name: ghiordanfwiws\n",
      "Azure region: eastus2\n",
      "Subscription id: 7899\n"
     ]
    }
   ],
   "source": [
    "ws = Workspace.from_config(\n",
    "    path=os.path.join(os.getcwd(),\n",
    "                      os.path.join(*([workspace_config_dir, '.azureml', workspace_config_file]))))\n",
    "print('Workspace name: ' + ws.name, \n",
    "      'Azure region: ' + ws.location, \n",
    "      'Subscription id: ' + ws.subscription_id[0:4], sep = '\\n')"
   ]
  },
  {
   "cell_type": "markdown",
   "metadata": {},
   "source": [
    "## Create an Azure ML experiment\n",
    "Let's create an experiment named \"tf-mnist\" and a folder to hold the training scripts. The script runs will be recorded under the experiment in Azure."
   ]
  },
  {
   "cell_type": "code",
   "execution_count": 14,
   "metadata": {},
   "outputs": [],
   "source": [
    "exp = Experiment(workspace=ws, name=experimentName)"
   ]
  },
  {
   "cell_type": "markdown",
   "metadata": {},
   "source": [
    "## Retrieve or create a Azure Machine Learning compute\n",
    "Azure Machine Learning Compute is a service for provisioning and managing clusters of Azure virtual machines for running machine learning workloads. Let's create a new Azure Machine Learning Compute in the current workspace, if it doesn't already exist. We will then run the training script on this compute target.\n",
    "\n",
    "If we could not find the compute with the given name in the previous cell, then we will create a new compute here. This process is broken down into the following steps:\n",
    "\n",
    "1. Create the configuration\n",
    "2. Create the Azure Machine Learning compute\n",
    "\n",
    "**This process will take a few minutes and is providing only sparse output in the process. Please make sure to wait until the call returns before moving to the next cell.**"
   ]
  },
  {
   "cell_type": "code",
   "execution_count": 15,
   "metadata": {},
   "outputs": [
    {
     "data": {
      "text/plain": [
       "'gpuclstfwi02'"
      ]
     },
     "execution_count": 15,
     "metadata": {},
     "output_type": "execute_result"
    }
   ],
   "source": [
    "gpu_cluster_name = os.getenv('GPU_CLUSTER_NAME')\n",
    "gpu_cluster_name"
   ]
  },
  {
   "cell_type": "code",
   "execution_count": 16,
   "metadata": {},
   "outputs": [
    {
     "name": "stdout",
     "output_type": "stream",
     "text": [
      "Found existing gpu cluster\n"
     ]
    }
   ],
   "source": [
    "# Verify that cluster does not exist already\n",
    "max_nodes_value = 5\n",
    "try:\n",
    "    gpu_cluster = ComputeTarget(workspace=ws, name=gpu_cluster_name)\n",
    "    print(\"Found existing gpu cluster\")\n",
    "except ComputeTargetException:\n",
    "    print(\"Could not find ComputeTarget cluster!\")\n",
    "    \n",
    "# #     Create a new gpucluster using code below\n",
    "#     # Specify the configuration for the new cluster\n",
    "#     compute_config = AmlCompute.provisioning_configuration(vm_size=\"Standard_NC6\",\n",
    "#                                                            min_nodes=0,\n",
    "#                                                            max_nodes=max_nodes_value)\n",
    "#     # Create the cluster with the specified name and configuration\n",
    "#     gpu_cluster = ComputeTarget.create(ws, gpu_cluster_name, compute_config)\n",
    "\n",
    "#     # Wait for the cluster to complete, show the output log\n",
    "#     gpu_cluster.wait_for_completion(show_output=True)\n",
    "    \n",
    "    \n",
    "#     for demo purposes, show how clsuter properties can be altered post-creation\n",
    "gpu_cluster.update(min_nodes=0, max_nodes=max_nodes_value, idle_seconds_before_scaledown=1200)"
   ]
  },
  {
   "cell_type": "markdown",
   "metadata": {},
   "source": [
    "#### Create an Azure ML SDK estimator with custom docker image "
   ]
  },
  {
   "cell_type": "code",
   "execution_count": 17,
   "metadata": {},
   "outputs": [
    {
     "data": {
      "application/vnd.jupyter.widget-view+json": {
       "model_id": "2066a8170a4e4c11ada50b453920959b",
       "version_major": 2,
       "version_minor": 0
      },
      "text/plain": [
       "_UserRunWidget(widget_settings={'childWidgetDisplay': 'popup', 'send_telemetry': False, 'log_level': 'INFO', '…"
      ]
     },
     "metadata": {},
     "output_type": "display_data"
    }
   ],
   "source": [
    "# use a custom Docker image\n",
    "from azureml.core.container_registry import ContainerRegistry\n",
    "\n",
    "image_name = docker_image_name\n",
    "\n",
    "# you can also point to an image in a private ACR\n",
    "image_registry_details = ContainerRegistry()\n",
    "image_registry_details.address = docker_repo_name\n",
    "image_registry_details.username = os.getenv('ACR_USERNAME')\n",
    "image_registry_details.password = os.getenv('ACR_PASSWORD') \n",
    "\n",
    "# don't let the system build a new conda environment\n",
    "user_managed_dependencies = True\n",
    "\n",
    "# submit to a local Docker container. if you don't have Docker engine running locally, you can set compute_target to cpu_cluster.\n",
    "script_params = {\n",
    "        '--output_folder': 'some_folder'\n",
    "}\n",
    "\n",
    "\n",
    "# distributed_training_conf = MpiConfiguration()\n",
    "# distributed_training_conf.process_count_per_node = 2\n",
    "\n",
    "est = Estimator(source_directory=script_path, \n",
    "                compute_target=gpu_cluster,#'local', #gpu_cluster, \n",
    "                entry_script=azureml_training_script_file,\n",
    "                script_params=script_params,\n",
    "                use_docker=True,\n",
    "                custom_docker_image=image_name,\n",
    "                # uncomment below line to use your private ACR\n",
    "                image_registry_details=image_registry_details, \n",
    "                user_managed=user_managed_dependencies,\n",
    "                distributed_training=None,\n",
    "                node_count=1\n",
    "                )\n",
    "est.run_config.environment.python.interpreter_path = python_path_in_docker_image\n",
    "\n",
    "run = exp.submit(est)\n",
    "RunDetails(run).show()"
   ]
  },
  {
   "cell_type": "markdown",
   "metadata": {},
   "source": [
    "One can use the above link to currrent experiment run in Azure Portal to see tracked metrics, and images and output notebooks saved by azureml_training_script_full_file_name in {run_dir}/outputs on the remote compute target that are automatically saved by AzureML in the run history Azure portal pages."
   ]
  },
  {
   "cell_type": "code",
   "execution_count": 18,
   "metadata": {},
   "outputs": [
    {
     "data": {
      "text/plain": [
       "'runId= 020_AzureMLEstimator_1572793621_e35441c0'"
      ]
     },
     "execution_count": 18,
     "metadata": {},
     "output_type": "execute_result"
    },
    {
     "data": {
      "text/plain": [
       "'experimentation baseImage: fwi01_azureml:sdk.v1.0.69'"
      ]
     },
     "execution_count": 18,
     "metadata": {},
     "output_type": "execute_result"
    }
   ],
   "source": [
    "run_details =  run.get_details()\n",
    "\n",
    "# print some details of job run\n",
    "'runId= {}'.format(run_details['runId'])\n",
    "'experimentation baseImage: {}'.format(run_details['runDefinition']['environment']['docker']['baseImage'])"
   ]
  },
  {
   "cell_type": "code",
   "execution_count": 19,
   "metadata": {},
   "outputs": [
    {
     "name": "stdout",
     "output_type": "stream",
     "text": [
      "Finished running 020_UseAzureMLEstimatorForExperimentation_GeophysicsTutorial_FWI_Azure_devito!\n"
     ]
    }
   ],
   "source": [
    "print('Finished running 020_UseAzureMLEstimatorForExperimentation_GeophysicsTutorial_FWI_Azure_devito!')"
   ]
  }
 ],
 "metadata": {
  "kernelspec": {
   "display_name": "Python 3",
   "language": "python",
   "name": "python3"
  },
  "language_info": {
   "codemirror_mode": {
    "name": "ipython",
    "version": 3
   },
   "file_extension": ".py",
   "mimetype": "text/x-python",
   "name": "python",
   "nbconvert_exporter": "python",
   "pygments_lexer": "ipython3",
   "version": "3.6.9"
  }
 },
 "nbformat": 4,
 "nbformat_minor": 2
}
